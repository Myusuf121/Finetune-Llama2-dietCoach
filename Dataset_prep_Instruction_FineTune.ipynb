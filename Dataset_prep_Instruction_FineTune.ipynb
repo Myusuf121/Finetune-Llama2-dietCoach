{
  "nbformat": 4,
  "nbformat_minor": 0,
  "metadata": {
    "colab": {
      "provenance": [],
      "gpuType": "T4"
    },
    "kernelspec": {
      "name": "python3",
      "display_name": "Python 3"
    },
    "language_info": {
      "name": "python"
    },
    "accelerator": "GPU"
  },
  "cells": [
    {
      "cell_type": "code",
      "execution_count": null,
      "metadata": {
        "colab": {
          "base_uri": "https://localhost:8080/"
        },
        "id": "7rgaT7zEhhI-",
        "outputId": "acd9375f-f2e2-4ada-d5d7-6f2257321830"
      },
      "outputs": [
        {
          "output_type": "stream",
          "name": "stdout",
          "text": [
            "Requirement already satisfied: pandas in /usr/local/lib/python3.10/dist-packages (2.2.2)\n",
            "Requirement already satisfied: openpyxl in /usr/local/lib/python3.10/dist-packages (3.1.5)\n",
            "Requirement already satisfied: numpy>=1.22.4 in /usr/local/lib/python3.10/dist-packages (from pandas) (1.26.4)\n",
            "Requirement already satisfied: python-dateutil>=2.8.2 in /usr/local/lib/python3.10/dist-packages (from pandas) (2.8.2)\n",
            "Requirement already satisfied: pytz>=2020.1 in /usr/local/lib/python3.10/dist-packages (from pandas) (2024.2)\n",
            "Requirement already satisfied: tzdata>=2022.7 in /usr/local/lib/python3.10/dist-packages (from pandas) (2024.2)\n",
            "Requirement already satisfied: et-xmlfile in /usr/local/lib/python3.10/dist-packages (from openpyxl) (2.0.0)\n",
            "Requirement already satisfied: six>=1.5 in /usr/local/lib/python3.10/dist-packages (from python-dateutil>=2.8.2->pandas) (1.16.0)\n"
          ]
        }
      ],
      "source": [
        "!pip install pandas openpyxl"
      ]
    },
    {
      "cell_type": "code",
      "source": [
        "import pandas as pd\n",
        "\n",
        "# Load the Excel file\n",
        "file_path = \"/content/train01.csv\"  # Replace with your file path\n",
        "data = pd.read_csv(file_path, header=None, names=[\"Combined\"])\n",
        "# Drop the first row\n",
        "data = data.iloc[1:].reset_index(drop=True)\n",
        "# Display the length of the first row\n",
        "length_of_first_row = len(data.iloc[0][\"Combined\"])\n",
        "print(\"Length of the first row:\", length_of_first_row)"
      ],
      "metadata": {
        "colab": {
          "base_uri": "https://localhost:8080/"
        },
        "id": "1p--bFuJBnFQ",
        "outputId": "94e28611-e9f4-47af-ebfa-17697d0c9da8"
      },
      "execution_count": null,
      "outputs": [
        {
          "output_type": "stream",
          "name": "stdout",
          "text": [
            "Length of the first row: 1461\n"
          ]
        }
      ]
    },
    {
      "cell_type": "code",
      "source": [
        "from google.colab import drive\n",
        "# Mount the drive\n",
        "drive.mount('/content/drive')\n",
        "\n",
        "# After mounting, you can access files under /content/drive/My Drive/"
      ],
      "metadata": {
        "colab": {
          "base_uri": "https://localhost:8080/"
        },
        "id": "Gq6zMK86UwyG",
        "outputId": "2a9785f6-ecb8-45a1-d98a-c67950ccf880"
      },
      "execution_count": null,
      "outputs": [
        {
          "output_type": "stream",
          "name": "stdout",
          "text": [
            "Mounted at /content/drive\n"
          ]
        }
      ]
    },
    {
      "cell_type": "code",
      "source": [
        "# Initialize a list to store the formatted data\n",
        "formatted_data = []\n",
        "\n",
        "# Process each row in the data\n",
        "for _, row in data.iterrows():\n",
        "    # Extract the combined text\n",
        "    combined_text = row[\"Combined\"]\n",
        "\n",
        "    # Split the text into Human and Assistant parts\n",
        "    try:\n",
        "        human_text = combined_text.split(\"Human:\")[1].split(\"Assistant:\")[0].strip()\n",
        "        assistant_text = combined_text.split(\"Assistant:\")[1].strip()\n",
        "    except IndexError:\n",
        "        print(f\"Skipping row due to incorrect format: {combined_text}\")\n",
        "        continue\n",
        "\n",
        "    # Construct the instruction-tuning format\n",
        "    formatted_entry = (\n",
        "        f\"<s>[INST] <<SYS>> You are a helpful assistant providing nutritional information. <</SYS>>\\n\"\n",
        "        f\"{human_text} [/INST]\\n\"\n",
        "        f\"{assistant_text}\\n</s>\\n\"\n",
        "    )\n",
        "    formatted_data.append(formatted_entry)\n",
        "\n"
      ],
      "metadata": {
        "colab": {
          "base_uri": "https://localhost:8080/"
        },
        "id": "E8WYwy5wNyis",
        "outputId": "185ce632-bf19-41c1-97bc-2871ca6d8cc6"
      },
      "execution_count": null,
      "outputs": [
        {
          "output_type": "stream",
          "name": "stdout",
          "text": [
            "File saved to /content/drive/My Drive/example.txt\n",
            "Formatted data saved to formatted_data.txt\n"
          ]
        }
      ]
    },
    {
      "cell_type": "code",
      "source": [
        "import csv\n",
        "\n",
        "# Save the formatted data to a CSV file\n",
        "file_path = '/content/drive/My Drive/example.csv'\n",
        "\n",
        "with open(file_path, mode=\"w\", encoding=\"utf-8\", newline=\"\") as f:\n",
        "    writer = csv.writer(f)\n",
        "\n",
        "    # Write each item in the list as a row in the CSV file\n",
        "    for line in formatted_data:\n",
        "        writer.writerow([line])\n",
        "\n",
        "print(f\"Data saved to {file_path}\")\n"
      ],
      "metadata": {
        "colab": {
          "base_uri": "https://localhost:8080/"
        },
        "id": "ZKCT5EBMZJCz",
        "outputId": "dec9f0d3-9214-4fab-c95a-9912ddb0aac4"
      },
      "execution_count": null,
      "outputs": [
        {
          "output_type": "stream",
          "name": "stdout",
          "text": [
            "Data saved to /content/drive/My Drive/example.csv\n"
          ]
        }
      ]
    },
    {
      "cell_type": "code",
      "source": [
        "data = pd.read_csv(\"/content/formatted_data.txt\", header=None, names=[\"Text\"], on_bad_lines=\"skip\")\n",
        "\n",
        "print(data.head(2))\n"
      ],
      "metadata": {
        "id": "LOPEfoeiQocW"
      },
      "execution_count": null,
      "outputs": []
    }
  ]
}